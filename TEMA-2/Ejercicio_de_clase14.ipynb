{
 "cells": [
  {
   "cell_type": "markdown",
   "metadata": {},
   "source": [
    "# Ejercicio de clase"
   ]
  },
  {
   "cell_type": "code",
   "execution_count": 1,
   "metadata": {},
   "outputs": [],
   "source": [
    "import numpy as np\n",
    "from functools import reduce\n",
    "import time\n",
    "import matplotlib.pyplot as plt\n",
    "import scipy.stats as st     # Librería estadística\n",
    "import pandas as pd"
   ]
  },
  {
   "cell_type": "code",
   "execution_count": 19,
   "metadata": {},
   "outputs": [
    {
     "data": {
      "image/png": "[encoded data removed]",
      "text/plain": [
       "<Figure size 432x288 with 1 Axes>"
      ]
     },
     "metadata": {},
     "output_type": "display_data"
    }
   ],
   "source": [
    "f_x = lambda x: 1/x**2 if x>=1 else 0\n",
    "xi = lambda u: 1/u\n",
    "N = 1000\n",
    "u1 = np.random.uniform(.1,1,N)\n",
    "muestras = xi(u1)\n",
    "y,x,p=plt.hist(muestras, bins=100,density=True)\n",
    "y2 = list(map(lambda x: f_x(x),x))\n",
    "plt.plot(x,y2)\n",
    "plt.show()"
   ]
  },
  {
   "cell_type": "markdown",
   "metadata": {},
   "source": [
    " # a) Montecarlo\n",
    " "
   ]
  },
  {
   "cell_type": "code",
   "execution_count": 38,
   "metadata": {},
   "outputs": [
    {
     "name": "stdout",
     "output_type": "stream",
     "text": [
      "25.05989612364478\n"
     ]
    }
   ],
   "source": [
    "N=10\n",
    "a= np.random.uniform(0,1,N)\n",
    "muestras= xi(a)\n",
    "print(muestras.mean())\n",
    "# print(muestras.max())"
   ]
  },
  {
   "cell_type": "markdown",
   "metadata": {},
   "source": [
    "# b) Muestreo estratificado\n"
   ]
  },
  {
   "cell_type": "code",
   "execution_count": 46,
   "metadata": {},
   "outputs": [],
   "source": [
    "np.random.seed(100)\n",
    "r1=np.random.uniform(0,.6,3)\n",
    "r2=np.random.uniform(.6,.9,3)\n",
    "r3=np.random.uniform(0.9,1,4)\n",
    "\n",
    "w=[1/2,1,4]\n",
    "r=[r1,r2,r3]\n",
    "muestras2= list(map(lambda x: xi(x),r))\n",
    "estra1=list(map(lambda xi,w: xi/w,muestras2,w))"
   ]
  },
  {
   "cell_type": "code",
   "execution_count": 49,
   "metadata": {},
   "outputs": [
    {
     "data": {
      "text/plain": [
       "3.1414011761124687"
      ]
     },
     "execution_count": 49,
     "metadata": {},
     "output_type": "execute_result"
    }
   ],
   "source": [
    "muestras2\n",
    "np.concatenate(estra1).mean()"
   ]
  },
  {
   "cell_type": "markdown",
   "metadata": {},
   "source": [
    "# c) Estratificado 2"
   ]
  },
  {
   "cell_type": "code",
   "execution_count": 51,
   "metadata": {},
   "outputs": [],
   "source": [
    "def estra(B):\n",
    "    U2 = np.random.rand(B)\n",
    "    i = np.arange(0,B)\n",
    "    estra = (U2+i)/B\n",
    "    return estra"
   ]
  },
  {
   "cell_type": "code",
   "execution_count": 55,
   "metadata": {},
   "outputs": [
    {
     "data": {
      "text/plain": [
       "3.6043778002853335"
      ]
     },
     "execution_count": 55,
     "metadata": {},
     "output_type": "execute_result"
    }
   ],
   "source": [
    "rand = estra(10)\n",
    "muestras3 = list(map(lambda x: xi(x),rand))\n",
    "np.mean(muestras3)"
   ]
  },
  {
   "cell_type": "markdown",
   "metadata": {},
   "source": [
    "# d) complementario\n"
   ]
  },
  {
   "cell_type": "code",
   "execution_count": 60,
   "metadata": {},
   "outputs": [
    {
     "data": {
      "text/plain": [
       "7.264034516652442"
      ]
     },
     "execution_count": 60,
     "metadata": {},
     "output_type": "execute_result"
    }
   ],
   "source": [
    "u1 = np.random.rand(5)\n",
    "u2 = 1-u1\n",
    "U = [u1,u2]\n",
    "muestras4 = list(map(lambda u:xi(u),U))\n",
    "np.concatenate(muestras4).mean()"
   ]
  },
  {
   "cell_type": "code",
   "execution_count": null,
   "metadata": {},
   "outputs": [],
   "source": []
  },
  {
   "cell_type": "code",
   "execution_count": null,
   "metadata": {},
   "outputs": [],
   "source": []
  }
 ],
 "metadata": {
  "kernelspec": {
   "display_name": "Python 3",
   "language": "python",
   "name": "python3"
  },
  "language_info": {
   "codemirror_mode": {
    "name": "ipython",
    "version": 3
   },
   "file_extension": ".py",
   "mimetype": "text/x-python",
   "name": "python",
   "nbconvert_exporter": "python",
   "pygments_lexer": "ipython3",
   "version": "3.6.5"
  }
 },
 "nbformat": 4,
 "nbformat_minor": 2
}
